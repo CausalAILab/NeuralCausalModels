{
 "cells": [
  {
   "cell_type": "code",
   "execution_count": 34,
   "metadata": {},
   "outputs": [],
   "source": [
    "import matplotlib.pyplot as plt\n",
    "import pandas as pd\n",
    "import seaborn as sns\n",
    "\n",
    "sns.set_style('whitegrid')"
   ]
  },
  {
   "cell_type": "code",
   "execution_count": 41,
   "metadata": {},
   "outputs": [],
   "source": [
    "#df = pd.read_csv('../ext/NeurIPS20-WERM/Example_1-napkin/napkin2.csv')\n",
    "df = pd.read_csv('tmp.csv').drop('ncm_err', 1)"
   ]
  },
  {
   "cell_type": "code",
   "execution_count": 44,
   "metadata": {},
   "outputs": [],
   "source": [
    "df_melt = pd.melt(df, id_vars='n', var_name='kind', value_name='error')"
   ]
  },
  {
   "cell_type": "code",
   "execution_count": 48,
   "metadata": {},
   "outputs": [
    {
     "data": {
      "image/png": "[encoded data removed]",
      "text/plain": [
       "<Figure size 432x288 with 1 Axes>"
      ]
     },
     "metadata": {},
     "output_type": "display_data"
    }
   ],
   "source": [
    "fig = sns.barplot(x='n', y='error', hue='kind', data=df_melt)\n",
    "fig.set_title('ATE error vs. # samples')\n",
    "plt.savefig('werm.png', dpi=600)"
   ]
  },
  {
   "cell_type": "code",
   "execution_count": null,
   "metadata": {},
   "outputs": [],
   "source": [
    "#!/usr/bin/env python3\n",
    "#\n",
    "# Generate ATE error plots from a results CSV\n",
    "#\n",
    "# Example usage:\n",
    "# $ ./generate_plots.py example1-results.csv example1.png\n",
    "#\n",
    "# Requires python >= 3.5\n",
    "\n",
    "import sys\n",
    "\n",
    "import matplotlib.pyplot as plt\n",
    "import pandas as pd\n",
    "import seaborn as sns\n",
    "\n",
    "if len(sys.argv) != 3:\n",
    "    exit('usage: {sys.argv[0]} results_csv out_png')\n",
    "\n",
    "sns.set_style('whitegrid')\n",
    "\n",
    "df = pd.read_csv(sys.argv[1])\n",
    "df_melt = pd.melt(df, id_vars='n', var_name='kind', value_name='error')\n",
    "fig = sns.barplot(x='n', y='error', hue='kind', data=df_melt)\n",
    "fig.set_title('ATE error vs. # samples')\n",
    "plt.savefig(sys.argv[2], dpi=600)"
   ]
  }
 ],
 "metadata": {
  "kernelspec": {
   "display_name": "Python 3",
   "language": "python",
   "name": "python3"
  },
  "language_info": {
   "codemirror_mode": {
    "name": "ipython",
    "version": 3
   },
   "file_extension": ".py",
   "mimetype": "text/x-python",
   "name": "python",
   "nbconvert_exporter": "python",
   "pygments_lexer": "ipython3",
   "version": "3.7.6"
  }
 },
 "nbformat": 4,
 "nbformat_minor": 4
}
