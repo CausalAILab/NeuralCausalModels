{
 "cells": [
  {
   "cell_type": "code",
   "execution_count": 2,
   "metadata": {},
   "outputs": [],
   "source": [
    "import glob\n",
    "import sys\n",
    "sys.path.append('..')\n",
    "\n",
    "import pandas as pd\n",
    "import pytorch_lightning as pl\n",
    "import torch as T\n",
    "\n",
    "from src import metrics\n",
    "from src import utils\n",
    "from src.ds import CausalGraph\n",
    "from src.scm import (SCM, CTM, DiscreteDistribution,\n",
    "                     PartiallyCorrelatedDistribution, Distribution)\n",
    "from src.nn import Simple, NCM, NLLModule, UniformDistribution"
   ]
  },
  {
   "cell_type": "code",
   "execution_count": 8,
   "metadata": {},
   "outputs": [],
   "source": [
    "x = NCM(CausalGraph.read('../dat/cg/backdoor.cg'))\n",
    "\n",
    "with metrics.evaluating(x):\n",
    "    v = x(1)\n",
    "    n = 123\n",
    "    batch_size = len(next(iter(v.values())))\n",
    "\n",
    "    u = {k: t.expand((batch_size,) + t.shape).transpose(0, 1)\n",
    "         for k, t in x.pu.sample(n=n).items()} #(n, batch_size, var_siz)\n",
    "    v_new = {k: t.expand((n,) + t.shape).float()\n",
    "             for k, t in v.items()}"
   ]
  },
  {
   "cell_type": "code",
   "execution_count": 9,
   "metadata": {},
   "outputs": [
    {
     "data": {
      "text/plain": [
       "{'Z': tensor([[1]]), 'X': tensor([[0]]), 'Y': tensor([[1]])}"
      ]
     },
     "execution_count": 9,
     "metadata": {},
     "output_type": "execute_result"
    }
   ],
   "source": [
    "v"
   ]
  },
  {
   "cell_type": "code",
   "execution_count": 18,
   "metadata": {},
   "outputs": [
    {
     "data": {
      "text/plain": [
       "tensor([0.2652], grad_fn=<PowBackward1>)"
      ]
     },
     "execution_count": 18,
     "metadata": {},
     "output_type": "execute_result"
    }
   ],
   "source": [
    "import math\n",
    "math.e ** -x.nll(v, n=1000)"
   ]
  },
  {
   "cell_type": "code",
   "execution_count": 19,
   "metadata": {},
   "outputs": [
    {
     "data": {
      "text/html": [
       "<div>\n",
       "<style scoped>\n",
       "    .dataframe tbody tr th:only-of-type {\n",
       "        vertical-align: middle;\n",
       "    }\n",
       "\n",
       "    .dataframe tbody tr th {\n",
       "        vertical-align: top;\n",
       "    }\n",
       "\n",
       "    .dataframe thead th {\n",
       "        text-align: right;\n",
       "    }\n",
       "</style>\n",
       "<table border=\"1\" class=\"dataframe\">\n",
       "  <thead>\n",
       "    <tr style=\"text-align: right;\">\n",
       "      <th></th>\n",
       "      <th>Z</th>\n",
       "      <th>X</th>\n",
       "      <th>Y</th>\n",
       "      <th>P(V)</th>\n",
       "    </tr>\n",
       "  </thead>\n",
       "  <tbody>\n",
       "    <tr>\n",
       "      <th>0</th>\n",
       "      <td>0</td>\n",
       "      <td>0</td>\n",
       "      <td>0</td>\n",
       "      <td>0.037919</td>\n",
       "    </tr>\n",
       "    <tr>\n",
       "      <th>1</th>\n",
       "      <td>0</td>\n",
       "      <td>0</td>\n",
       "      <td>1</td>\n",
       "      <td>0.090704</td>\n",
       "    </tr>\n",
       "    <tr>\n",
       "      <th>2</th>\n",
       "      <td>0</td>\n",
       "      <td>1</td>\n",
       "      <td>0</td>\n",
       "      <td>0.047098</td>\n",
       "    </tr>\n",
       "    <tr>\n",
       "      <th>3</th>\n",
       "      <td>0</td>\n",
       "      <td>1</td>\n",
       "      <td>1</td>\n",
       "      <td>0.109799</td>\n",
       "    </tr>\n",
       "    <tr>\n",
       "      <th>4</th>\n",
       "      <td>1</td>\n",
       "      <td>0</td>\n",
       "      <td>0</td>\n",
       "      <td>0.121551</td>\n",
       "    </tr>\n",
       "    <tr>\n",
       "      <th>5</th>\n",
       "      <td>1</td>\n",
       "      <td>0</td>\n",
       "      <td>1</td>\n",
       "      <td>0.264594</td>\n",
       "    </tr>\n",
       "    <tr>\n",
       "      <th>6</th>\n",
       "      <td>1</td>\n",
       "      <td>1</td>\n",
       "      <td>0</td>\n",
       "      <td>0.092198</td>\n",
       "    </tr>\n",
       "    <tr>\n",
       "      <th>7</th>\n",
       "      <td>1</td>\n",
       "      <td>1</td>\n",
       "      <td>1</td>\n",
       "      <td>0.236137</td>\n",
       "    </tr>\n",
       "  </tbody>\n",
       "</table>\n",
       "</div>"
      ],
      "text/plain": [
       "   Z  X  Y      P(V)\n",
       "0  0  0  0  0.037919\n",
       "1  0  0  1  0.090704\n",
       "2  0  1  0  0.047098\n",
       "3  0  1  1  0.109799\n",
       "4  1  0  0  0.121551\n",
       "5  1  0  1  0.264594\n",
       "6  1  1  0  0.092198\n",
       "7  1  1  1  0.236137"
      ]
     },
     "execution_count": 19,
     "metadata": {},
     "output_type": "execute_result"
    }
   ],
   "source": [
    "metrics.probability_table(x)"
   ]
  },
  {
   "cell_type": "code",
   "execution_count": 10,
   "metadata": {},
   "outputs": [],
   "source": [
    "\n",
    "            logpv = sum(\n",
    "                T.log(\n",
    "                    (1 - v_new[k])\n",
    "                    + (2 * v_new[k] - 1)\n",
    "                    * x.f[k](v_new, u)\n",
    "                )\n",
    "                for k in x.v)"
   ]
  },
  {
   "cell_type": "code",
   "execution_count": null,
   "metadata": {},
   "outputs": [],
   "source": [
    "\n",
    "        try:\n",
    "            self.train()\n",
    "            batch_size = len(next(iter(v.values())))\n",
    "            u = {k: t.expand((batch_size,) + t.shape).transpose(0, 1)\n",
    "                 for k, t in self.pu.sample(n=n).items()} #(n, batch_size, var_siz)\n",
    "            v_new = {k: t.expand((n,) + t.shape).float()\n",
    "                     for k, t in v.items()}\n",
    "            logpv = sum(\n",
    "                T.log(\n",
    "                    (1 - v_new[k])\n",
    "                    + (2 * v_new[k] - 1)\n",
    "                    * self.f[k](v_new, u)\n",
    "                )\n",
    "                for k in self.v)\n",
    "            logpv = T.log((T.exp(logpv - logpv.max(dim=0, keepdim=True).values).mean(dim=0))\n",
    "                     + logpv.max(dim=0).values)\n",
    "            logpv = T.log((T.exp(logpv - logpv.max(dim=0, keepdim=True).values).mean(dim=0))\n",
    "                     + logpv.max(dim=0).values)\n",
    "            return logpv.item()\n",
    "        finally:"
   ]
  },
  {
   "cell_type": "code",
   "execution_count": 5,
   "metadata": {},
   "outputs": [
    {
     "data": {
      "text/plain": [
       "nan"
      ]
     },
     "execution_count": 5,
     "metadata": {},
     "output_type": "execute_result"
    }
   ],
   "source": [
    "x.nll(v)"
   ]
  },
  {
   "cell_type": "code",
   "execution_count": 20,
   "metadata": {},
   "outputs": [
    {
     "name": "stdout",
     "output_type": "stream",
     "text": [
      "error processing ../out/nll/frontdoor-10000-0\n"
     ]
    },
    {
     "data": {
      "text/html": [
       "<div>\n",
       "<style scoped>\n",
       "    .dataframe tbody tr th:only-of-type {\n",
       "        vertical-align: middle;\n",
       "    }\n",
       "\n",
       "    .dataframe tbody tr th {\n",
       "        vertical-align: top;\n",
       "    }\n",
       "\n",
       "    .dataframe thead th {\n",
       "        text-align: right;\n",
       "    }\n",
       "</style>\n",
       "<table border=\"1\" class=\"dataframe\">\n",
       "  <thead>\n",
       "    <tr style=\"text-align: right;\">\n",
       "      <th></th>\n",
       "      <th></th>\n",
       "      <th>n_trials</th>\n",
       "      <th>mae_ncm_ate</th>\n",
       "      <th>mae_ncm_tv</th>\n",
       "      <th>mae_dat_tv</th>\n",
       "      <th>mae_true_ate_ncm_tv</th>\n",
       "      <th>mae_plugin_ate</th>\n",
       "    </tr>\n",
       "    <tr>\n",
       "      <th>graph</th>\n",
       "      <th>n_samples</th>\n",
       "      <th></th>\n",
       "      <th></th>\n",
       "      <th></th>\n",
       "      <th></th>\n",
       "      <th></th>\n",
       "      <th></th>\n",
       "    </tr>\n",
       "  </thead>\n",
       "  <tbody>\n",
       "    <tr>\n",
       "      <th>backdoor</th>\n",
       "      <th>10000</th>\n",
       "      <td>10</td>\n",
       "      <td>0.015311</td>\n",
       "      <td>0.018663</td>\n",
       "      <td>0.009362</td>\n",
       "      <td>0.273277</td>\n",
       "      <td>0.008907</td>\n",
       "    </tr>\n",
       "    <tr>\n",
       "      <th>bow</th>\n",
       "      <th>10000</th>\n",
       "      <td>10</td>\n",
       "      <td>0.281393</td>\n",
       "      <td>0.024465</td>\n",
       "      <td>0.013909</td>\n",
       "      <td>0.282395</td>\n",
       "      <td>NaN</td>\n",
       "    </tr>\n",
       "  </tbody>\n",
       "</table>\n",
       "</div>"
      ],
      "text/plain": [
       "                    n_trials  mae_ncm_ate  mae_ncm_tv  mae_dat_tv  \\\n",
       "graph    n_samples                                                  \n",
       "backdoor 10000            10     0.015311    0.018663    0.009362   \n",
       "bow      10000            10     0.281393    0.024465    0.013909   \n",
       "\n",
       "                    mae_true_ate_ncm_tv  mae_plugin_ate  \n",
       "graph    n_samples                                       \n",
       "backdoor 10000                 0.273277        0.008907  \n",
       "bow      10000                 0.282395             NaN  "
      ]
     },
     "execution_count": 20,
     "metadata": {},
     "output_type": "execute_result"
    }
   ],
   "source": [
    "import glob\n",
    "import json\n",
    "\n",
    "def process(d):\n",
    "    results = {}\n",
    "    _, results['name'], results['key'] = d.rsplit('/', 2)\n",
    "    (results['graph'],\n",
    "     results['n_samples'],\n",
    "     results['n_trial']) = results['key'].split('-')\n",
    "    results['n_samples'] = int(results['n_samples'],)\n",
    "    results['n_trial'] = int(results['n_trial'])\n",
    "\n",
    "#     m = T.load(f'{d}/best.th')\n",
    "    try:\n",
    "        dat = T.load(f'{d}/dat.th')\n",
    "        with open(f'{d}/results.json') as file:\n",
    "            results.update(json.load(file))\n",
    "        results['data_tv'] = (dat['Y'][dat['X'] == 1].float().mean()\n",
    "                              - dat['Y'][dat['X'] == 0].float().mean()).item()\n",
    "        \n",
    "        def diff(g):\n",
    "            return (-next(g) + next(g)).item()\n",
    "        \n",
    "        if results['graph'] == 'backdoor':\n",
    "            results['plugin_ate'] = diff(\n",
    "                sum(dat['Y'][(dat['Z'] == z)\n",
    "                             & (dat['X'] == x)].float().mean()\n",
    "                    * (dat['Z'] == z).float().mean()\n",
    "                    for z in (0, 1))\n",
    "                for x in (0, 1))\n",
    "        elif results['graph'] == 'frontdoor':\n",
    "            results['plugin_ate'] = diff(\n",
    "                sum((dat['M'][dat['X'] == x] == m).float().mean()\n",
    "                    * sum(dat['Y'][(dat['X'] == xp)\n",
    "                                   & (dat['M'] == m)].float().mean()\n",
    "                          * (dat['X'] == xp).float().mean()\n",
    "                          for xp in (0, 1))\n",
    "                    for m in (0, 1))\n",
    "                for x in (0, 1))\n",
    "        elif results['graph'] == 'napkin':\n",
    "            results['plugin_ate'] = diff(\n",
    "                sum(sum((((dat['X'] == x)\n",
    "                          & (dat['Y'] == 1))\n",
    "                         [(dat['W'] == w)\n",
    "                          & (dat['Z'] == z)]).float().mean()\n",
    "                        * (dat['W'] == w).float().mean()\n",
    "                        for w in (0, 1))\n",
    "                    / sum(((dat['X'] == x)\n",
    "                           [(dat['W'] == w)\n",
    "                            & (dat['Z'] == z)]).float().mean()\n",
    "                          * (dat['W'] == w).float().mean()\n",
    "                          for w in (0, 1))\n",
    "                    for z in (0, 1)) / 2\n",
    "                 for x in (0, 1))\n",
    "        elif results['graph'] in ('m', 'simple'):\n",
    "            results['plugin_ate'] = results['dat_tv']\n",
    "        else:\n",
    "            results['plugin_ate'] = float('nan')\n",
    "            \n",
    "        results['err_dat_tv_ncm_ate'] = results['dat_tv'] - results['ncm_ate']\n",
    "        results['err_true_ate_ncm_tv'] = results['true_ate'] - results['ncm_tv']\n",
    "        results['err_plugin_ate_ncm_ate'] = results['plugin_ate'] - results['ncm_ate']\n",
    "        results['err_plugin_ate'] = results['true_ate'] - results['plugin_ate']\n",
    "    except FileNotFoundError:\n",
    "        print('error processing', d)\n",
    "    return results\n",
    "\n",
    "df = pd.DataFrame.from_records(list(map(process, glob.glob('../out/nll/*'))))\n",
    "err_cols = df.columns[df.columns.str.contains('err')]\n",
    "mae_cols = err_cols.str.replace('err', 'mae')\n",
    "t = (\n",
    "    df\n",
    "    .groupby(['graph', 'n_samples'])[err_cols]\n",
    "    .apply(lambda s: s.abs().mean())\n",
    "    .rename(dict(zip(err_cols, mae_cols)), axis=1)\n",
    "    .assign(n_trials=df.groupby(['graph', 'n_samples']).apply(lambda s: len(s.err_ncm_ate.dropna()))))\n",
    "t[['n_trials', 'mae_ncm_ate', 'mae_ncm_tv', 'mae_dat_tv', 'mae_true_ate_ncm_tv', 'mae_plugin_ate']][~t.mae_ncm_ate.isna()]"
   ]
  },
  {
   "cell_type": "code",
   "execution_count": 37,
   "metadata": {},
   "outputs": [
    {
     "data": {
      "text/plain": [
       "0.011396379179280686"
      ]
     },
     "execution_count": 37,
     "metadata": {},
     "output_type": "execute_result"
    }
   ],
   "source": [
    "(df.query('graph == \"backdoor\" and n_samples == 10000').err_ncm_ate ** 2).mean() ** .5"
   ]
  },
  {
   "cell_type": "code",
   "execution_count": 33,
   "metadata": {},
   "outputs": [],
   "source": [
    "rm -rf out/nll/napkin-10000-0"
   ]
  },
  {
   "cell_type": "code",
   "execution_count": 70,
   "metadata": {},
   "outputs": [
    {
     "data": {
      "text/plain": [
       "{'rmse_ncm': '0.01663',\n",
       " 'rmse_plugin': '0.01882',\n",
       " 'rmse_ncm_obs': '0.28532',\n",
       " 'rmse_obs': '0.28116'}"
      ]
     },
     "execution_count": 70,
     "metadata": {},
     "output_type": "execute_result"
    }
   ],
   "source": [
    "{\n",
    "    'rmse_ncm': '%.5f'%((df.true_ate - df.ncm_ate)**2).sum()**.5,\n",
    "    'rmse_plugin': '%.5f'%((df.true_ate - df['plug-in ate'])**2).sum()**.5,\n",
    "    'rmse_ncm_obs': '%.5f'%((df.true_ate - df['ncm_obs_effect'])**2).sum()**.5,\n",
    "    'rmse_obs': '%.5f'%((df.true_ate - df['obs effect'])**2).sum()**.5,\n",
    "}"
   ]
  },
  {
   "cell_type": "code",
   "execution_count": 53,
   "metadata": {},
   "outputs": [],
   "source": [
    "g = 'frontdoor'\n",
    "t3 = []"
   ]
  },
  {
   "cell_type": "code",
   "execution_count": 4,
   "metadata": {},
   "outputs": [
    {
     "data": {
      "text/plain": [
       "<All keys matched successfully>"
      ]
     },
     "execution_count": 4,
     "metadata": {},
     "output_type": "execute_result"
    }
   ],
   "source": [
    "g = 'backdoor'\n",
    "i = 0\n",
    "d = T.load(f'../out/nll/{g}-10000-{i}/best.th')\n",
    "dat = T.load(f'../out/nll/{g}-10000-{i}/dat.th')\n",
    "m = NLLModule(CTM(utils.RPA[g]), NCM(CausalGraph.read(f'../dat/cg/{g}.cg')))\n",
    "m.load_state_dict(d)"
   ]
  },
  {
   "cell_type": "code",
   "execution_count": 5,
   "metadata": {},
   "outputs": [
    {
     "data": {
      "text/html": [
       "<div>\n",
       "<style scoped>\n",
       "    .dataframe tbody tr th:only-of-type {\n",
       "        vertical-align: middle;\n",
       "    }\n",
       "\n",
       "    .dataframe tbody tr th {\n",
       "        vertical-align: top;\n",
       "    }\n",
       "\n",
       "    .dataframe thead th {\n",
       "        text-align: right;\n",
       "    }\n",
       "</style>\n",
       "<table border=\"1\" class=\"dataframe\">\n",
       "  <thead>\n",
       "    <tr style=\"text-align: right;\">\n",
       "      <th></th>\n",
       "      <th>Z</th>\n",
       "      <th>X</th>\n",
       "      <th>Y</th>\n",
       "      <th>P(V)</th>\n",
       "    </tr>\n",
       "  </thead>\n",
       "  <tbody>\n",
       "    <tr>\n",
       "      <th>0</th>\n",
       "      <td>0</td>\n",
       "      <td>0</td>\n",
       "      <td>0</td>\n",
       "      <td>0.999997</td>\n",
       "    </tr>\n",
       "    <tr>\n",
       "      <th>1</th>\n",
       "      <td>0</td>\n",
       "      <td>0</td>\n",
       "      <td>1</td>\n",
       "      <td>0.000003</td>\n",
       "    </tr>\n",
       "  </tbody>\n",
       "</table>\n",
       "</div>"
      ],
      "text/plain": [
       "   Z  X  Y      P(V)\n",
       "0  0  0  0  0.999997\n",
       "1  0  0  1  0.000003"
      ]
     },
     "execution_count": 5,
     "metadata": {},
     "output_type": "execute_result"
    }
   ],
   "source": [
    "metrics.probability_table(m)"
   ]
  },
  {
   "cell_type": "code",
   "execution_count": 6,
   "metadata": {},
   "outputs": [
    {
     "data": {
      "text/html": [
       "<div>\n",
       "<style scoped>\n",
       "    .dataframe tbody tr th:only-of-type {\n",
       "        vertical-align: middle;\n",
       "    }\n",
       "\n",
       "    .dataframe tbody tr th {\n",
       "        vertical-align: top;\n",
       "    }\n",
       "\n",
       "    .dataframe thead th {\n",
       "        text-align: right;\n",
       "    }\n",
       "</style>\n",
       "<table border=\"1\" class=\"dataframe\">\n",
       "  <thead>\n",
       "    <tr style=\"text-align: right;\">\n",
       "      <th></th>\n",
       "      <th>Z</th>\n",
       "      <th>X</th>\n",
       "      <th>Y</th>\n",
       "      <th>P(V)</th>\n",
       "    </tr>\n",
       "  </thead>\n",
       "  <tbody>\n",
       "    <tr>\n",
       "      <th>0</th>\n",
       "      <td>0</td>\n",
       "      <td>0</td>\n",
       "      <td>0</td>\n",
       "      <td>0.4990</td>\n",
       "    </tr>\n",
       "    <tr>\n",
       "      <th>1</th>\n",
       "      <td>0</td>\n",
       "      <td>0</td>\n",
       "      <td>1</td>\n",
       "      <td>0.3800</td>\n",
       "    </tr>\n",
       "    <tr>\n",
       "      <th>2</th>\n",
       "      <td>0</td>\n",
       "      <td>1</td>\n",
       "      <td>0</td>\n",
       "      <td>0.0051</td>\n",
       "    </tr>\n",
       "    <tr>\n",
       "      <th>3</th>\n",
       "      <td>0</td>\n",
       "      <td>1</td>\n",
       "      <td>1</td>\n",
       "      <td>0.0184</td>\n",
       "    </tr>\n",
       "    <tr>\n",
       "      <th>4</th>\n",
       "      <td>1</td>\n",
       "      <td>0</td>\n",
       "      <td>0</td>\n",
       "      <td>0.0183</td>\n",
       "    </tr>\n",
       "    <tr>\n",
       "      <th>5</th>\n",
       "      <td>1</td>\n",
       "      <td>0</td>\n",
       "      <td>1</td>\n",
       "      <td>0.0116</td>\n",
       "    </tr>\n",
       "    <tr>\n",
       "      <th>6</th>\n",
       "      <td>1</td>\n",
       "      <td>1</td>\n",
       "      <td>0</td>\n",
       "      <td>0.0514</td>\n",
       "    </tr>\n",
       "    <tr>\n",
       "      <th>7</th>\n",
       "      <td>1</td>\n",
       "      <td>1</td>\n",
       "      <td>1</td>\n",
       "      <td>0.0162</td>\n",
       "    </tr>\n",
       "  </tbody>\n",
       "</table>\n",
       "</div>"
      ],
      "text/plain": [
       "   Z  X  Y    P(V)\n",
       "0  0  0  0  0.4990\n",
       "1  0  0  1  0.3800\n",
       "2  0  1  0  0.0051\n",
       "3  0  1  1  0.0184\n",
       "4  1  0  0  0.0183\n",
       "5  1  0  1  0.0116\n",
       "6  1  1  0  0.0514\n",
       "7  1  1  1  0.0162"
      ]
     },
     "execution_count": 6,
     "metadata": {},
     "output_type": "execute_result"
    }
   ],
   "source": [
    "metrics.probability_table(dat=dat)"
   ]
  },
  {
   "cell_type": "code",
   "execution_count": 19,
   "metadata": {},
   "outputs": [
    {
     "data": {
      "text/plain": [
       "tensor([4.9632e-06], grad_fn=<PowBackward1>)"
      ]
     },
     "execution_count": 19,
     "metadata": {},
     "output_type": "execute_result"
    }
   ],
   "source": [
    "math.e ** -m.ncm.nll(dat1)"
   ]
  },
  {
   "cell_type": "code",
   "execution_count": 22,
   "metadata": {},
   "outputs": [
    {
     "data": {
      "text/plain": [
       "tensor([4.4107e-06], grad_fn=<PowBackward1>)"
      ]
     },
     "execution_count": 22,
     "metadata": {},
     "output_type": "execute_result"
    }
   ],
   "source": [
    "math.e ** -m.ncm.nll(dat1, n=1000)"
   ]
  },
  {
   "cell_type": "code",
   "execution_count": null,
   "metadata": {},
   "outputs": [],
   "source": [
    "m.ncm.nll(dat, n=1000)"
   ]
  },
  {
   "cell_type": "code",
   "execution_count": 15,
   "metadata": {},
   "outputs": [],
   "source": [
    "dat1 = {k: dat[k][:1] for k in dat}"
   ]
  },
  {
   "cell_type": "code",
   "execution_count": 16,
   "metadata": {},
   "outputs": [
    {
     "data": {
      "text/plain": [
       "tensor([12.1280], grad_fn=<NegBackward>)"
      ]
     },
     "execution_count": 16,
     "metadata": {},
     "output_type": "execute_result"
    }
   ],
   "source": [
    "m.ncm.nll(dat1)"
   ]
  },
  {
   "cell_type": "code",
   "execution_count": 11,
   "metadata": {},
   "outputs": [
    {
     "data": {
      "text/plain": [
       "{'Z': tensor([[8.0537e-07]], grad_fn=<SigmoidBackward>),\n",
       " 'X': tensor([[1.2135e-08]], grad_fn=<SigmoidBackward>),\n",
       " 'Y': tensor([[4.8810e-06]], grad_fn=<SigmoidBackward>)}"
      ]
     },
     "execution_count": 11,
     "metadata": {},
     "output_type": "execute_result"
    }
   ],
   "source": [
    "m.ncm(1)"
   ]
  },
  {
   "cell_type": "code",
   "execution_count": null,
   "metadata": {},
   "outputs": [],
   "source": []
  },
  {
   "cell_type": "code",
   "execution_count": 56,
   "metadata": {},
   "outputs": [
    {
     "data": {
      "text/html": [
       "<div>\n",
       "<style scoped>\n",
       "    .dataframe tbody tr th:only-of-type {\n",
       "        vertical-align: middle;\n",
       "    }\n",
       "\n",
       "    .dataframe tbody tr th {\n",
       "        vertical-align: top;\n",
       "    }\n",
       "\n",
       "    .dataframe thead th {\n",
       "        text-align: right;\n",
       "    }\n",
       "</style>\n",
       "<table border=\"1\" class=\"dataframe\">\n",
       "  <thead>\n",
       "    <tr style=\"text-align: right;\">\n",
       "      <th></th>\n",
       "      <th>X</th>\n",
       "      <th>M</th>\n",
       "      <th>Y</th>\n",
       "      <th>P(V)</th>\n",
       "    </tr>\n",
       "  </thead>\n",
       "  <tbody>\n",
       "    <tr>\n",
       "      <th>0</th>\n",
       "      <td>0</td>\n",
       "      <td>0</td>\n",
       "      <td>0</td>\n",
       "      <td>0.408095</td>\n",
       "    </tr>\n",
       "    <tr>\n",
       "      <th>1</th>\n",
       "      <td>0</td>\n",
       "      <td>0</td>\n",
       "      <td>1</td>\n",
       "      <td>0.255021</td>\n",
       "    </tr>\n",
       "    <tr>\n",
       "      <th>2</th>\n",
       "      <td>0</td>\n",
       "      <td>1</td>\n",
       "      <td>0</td>\n",
       "      <td>0.081951</td>\n",
       "    </tr>\n",
       "    <tr>\n",
       "      <th>3</th>\n",
       "      <td>0</td>\n",
       "      <td>1</td>\n",
       "      <td>1</td>\n",
       "      <td>0.041043</td>\n",
       "    </tr>\n",
       "    <tr>\n",
       "      <th>4</th>\n",
       "      <td>1</td>\n",
       "      <td>0</td>\n",
       "      <td>0</td>\n",
       "      <td>0.016633</td>\n",
       "    </tr>\n",
       "    <tr>\n",
       "      <th>5</th>\n",
       "      <td>1</td>\n",
       "      <td>0</td>\n",
       "      <td>1</td>\n",
       "      <td>0.016292</td>\n",
       "    </tr>\n",
       "    <tr>\n",
       "      <th>6</th>\n",
       "      <td>1</td>\n",
       "      <td>1</td>\n",
       "      <td>0</td>\n",
       "      <td>0.057100</td>\n",
       "    </tr>\n",
       "    <tr>\n",
       "      <th>7</th>\n",
       "      <td>1</td>\n",
       "      <td>1</td>\n",
       "      <td>1</td>\n",
       "      <td>0.123865</td>\n",
       "    </tr>\n",
       "  </tbody>\n",
       "</table>\n",
       "</div>"
      ],
      "text/plain": [
       "   X  M  Y      P(V)\n",
       "0  0  0  0  0.408095\n",
       "1  0  0  1  0.255021\n",
       "2  0  1  0  0.081951\n",
       "3  0  1  1  0.041043\n",
       "4  1  0  0  0.016633\n",
       "5  1  0  1  0.016292\n",
       "6  1  1  0  0.057100\n",
       "7  1  1  1  0.123865"
      ]
     },
     "execution_count": 56,
     "metadata": {},
     "output_type": "execute_result"
    }
   ],
   "source": [
    "metrics.probability_table(m.ctm)"
   ]
  },
  {
   "cell_type": "code",
   "execution_count": 57,
   "metadata": {},
   "outputs": [
    {
     "data": {
      "text/html": [
       "<div>\n",
       "<style scoped>\n",
       "    .dataframe tbody tr th:only-of-type {\n",
       "        vertical-align: middle;\n",
       "    }\n",
       "\n",
       "    .dataframe tbody tr th {\n",
       "        vertical-align: top;\n",
       "    }\n",
       "\n",
       "    .dataframe thead th {\n",
       "        text-align: right;\n",
       "    }\n",
       "</style>\n",
       "<table border=\"1\" class=\"dataframe\">\n",
       "  <thead>\n",
       "    <tr style=\"text-align: right;\">\n",
       "      <th></th>\n",
       "      <th>X</th>\n",
       "      <th>M</th>\n",
       "      <th>Y</th>\n",
       "      <th>P(V)</th>\n",
       "    </tr>\n",
       "  </thead>\n",
       "  <tbody>\n",
       "    <tr>\n",
       "      <th>0</th>\n",
       "      <td>0</td>\n",
       "      <td>0</td>\n",
       "      <td>0</td>\n",
       "      <td>0.393242</td>\n",
       "    </tr>\n",
       "    <tr>\n",
       "      <th>1</th>\n",
       "      <td>0</td>\n",
       "      <td>0</td>\n",
       "      <td>1</td>\n",
       "      <td>0.257669</td>\n",
       "    </tr>\n",
       "    <tr>\n",
       "      <th>2</th>\n",
       "      <td>0</td>\n",
       "      <td>1</td>\n",
       "      <td>0</td>\n",
       "      <td>0.065628</td>\n",
       "    </tr>\n",
       "    <tr>\n",
       "      <th>3</th>\n",
       "      <td>0</td>\n",
       "      <td>1</td>\n",
       "      <td>1</td>\n",
       "      <td>0.072716</td>\n",
       "    </tr>\n",
       "    <tr>\n",
       "      <th>4</th>\n",
       "      <td>1</td>\n",
       "      <td>0</td>\n",
       "      <td>0</td>\n",
       "      <td>0.019863</td>\n",
       "    </tr>\n",
       "    <tr>\n",
       "      <th>5</th>\n",
       "      <td>1</td>\n",
       "      <td>0</td>\n",
       "      <td>1</td>\n",
       "      <td>0.012859</td>\n",
       "    </tr>\n",
       "    <tr>\n",
       "      <th>6</th>\n",
       "      <td>1</td>\n",
       "      <td>1</td>\n",
       "      <td>0</td>\n",
       "      <td>0.084287</td>\n",
       "    </tr>\n",
       "    <tr>\n",
       "      <th>7</th>\n",
       "      <td>1</td>\n",
       "      <td>1</td>\n",
       "      <td>1</td>\n",
       "      <td>0.093736</td>\n",
       "    </tr>\n",
       "  </tbody>\n",
       "</table>\n",
       "</div>"
      ],
      "text/plain": [
       "   X  M  Y      P(V)\n",
       "0  0  0  0  0.393242\n",
       "1  0  0  1  0.257669\n",
       "2  0  1  0  0.065628\n",
       "3  0  1  1  0.072716\n",
       "4  1  0  0  0.019863\n",
       "5  1  0  1  0.012859\n",
       "6  1  1  0  0.084287\n",
       "7  1  1  1  0.093736"
      ]
     },
     "execution_count": 57,
     "metadata": {},
     "output_type": "execute_result"
    }
   ],
   "source": [
    "metrics.probability_table(m.ncm)"
   ]
  },
  {
   "cell_type": "code",
   "execution_count": 59,
   "metadata": {},
   "outputs": [
    {
     "ename": "TypeError",
     "evalue": "supremum_norm() missing 1 required positional argument: 'ncm'",
     "output_type": "error",
     "traceback": [
      "\u001b[0;31m---------------------------------------------------------------------------\u001b[0m",
      "\u001b[0;31mTypeError\u001b[0m                                 Traceback (most recent call last)",
      "\u001b[0;32m<ipython-input-59-e7edaa4cee45>\u001b[0m in \u001b[0;36m<module>\u001b[0;34m\u001b[0m\n\u001b[0;32m----> 1\u001b[0;31m \u001b[0mmetrics\u001b[0m\u001b[0;34m.\u001b[0m\u001b[0msupremum_norm\u001b[0m\u001b[0;34m(\u001b[0m\u001b[0mm\u001b[0m\u001b[0;34m.\u001b[0m\u001b[0mncm\u001b[0m\u001b[0;34m)\u001b[0m\u001b[0;34m\u001b[0m\u001b[0;34m\u001b[0m\u001b[0m\n\u001b[0m",
      "\u001b[0;31mTypeError\u001b[0m: supremum_norm() missing 1 required positional argument: 'ncm'"
     ]
    }
   ],
   "source": [
    "metrics.supremum_norm(m.ncm)"
   ]
  },
  {
   "cell_type": "code",
   "execution_count": 51,
   "metadata": {},
   "outputs": [
    {
     "name": "stdout",
     "output_type": "stream",
     "text": [
      "ls: out/nll: No such file or directory\n"
     ]
    }
   ],
   "source": [
    "ls out/nll"
   ]
  },
  {
   "cell_type": "code",
   "execution_count": 2,
   "metadata": {},
   "outputs": [
    {
     "data": {
      "text/plain": [
       "<All keys matched successfully>"
      ]
     },
     "execution_count": 2,
     "metadata": {},
     "output_type": "execute_result"
    }
   ],
   "source": [
    "g='backdoor'\n",
    "i=0\n",
    "m = NLLModule(CTM(utils.RPA[g]), NCM(CausalGraph.read(f'../dat/cg/{g}.cg')))\n",
    "d = T.load(f'../err/nll/backdoor-1000-0/logs/default/version_0/checkpoints/epoch=43-step=43.ckpt')\n",
    "m.load_state_dict(d['state_dict'])"
   ]
  },
  {
   "cell_type": "code",
   "execution_count": 3,
   "metadata": {},
   "outputs": [],
   "source": [
    "tmp = metrics.all_metrics(m.ctm, m.ncm)"
   ]
  },
  {
   "cell_type": "code",
   "execution_count": 75,
   "metadata": {},
   "outputs": [],
   "source": [
    "import json"
   ]
  },
  {
   "cell_type": "code",
   "execution_count": 76,
   "metadata": {},
   "outputs": [
    {
     "data": {
      "text/plain": [
       "'{\"true_ate\": -0.3767334818840027, \"ncm_ate\": -0.3195730149745941, \"true_obs_effect\": -0.11592955277964911, \"ncm_obs_effect\": -0.0732731819152832, \"kl\": 0.005362575132306613, \"supremum_norm\": 0.012062007682800302}'"
      ]
     },
     "execution_count": 76,
     "metadata": {},
     "output_type": "execute_result"
    }
   ],
   "source": [
    "json.dumps(tmp)"
   ]
  },
  {
   "cell_type": "code",
   "execution_count": 60,
   "metadata": {},
   "outputs": [],
   "source": [
    "i = 2\n",
    "d = T.load(f'out/nll/{g}-10000-{i}/best.th')\n",
    "dat = T.load(f'out/nll/{g}-10000-{i}/dat.th')\n",
    "m = NLLModule(CTM(utils.RPA[g]), NCM(CausalGraph.read(f'../dat/cg/{g}.cg')))\n",
    "m.load_state_dict(d)\n",
    "\n",
    "tmp = {}\n",
    "tmp['obs effect'] = \\\n",
    "      ((dat['Y'][dat['X'] == 1].float().mean()\n",
    "       - dat['Y'][dat['X'] == 0].float().mean()).item())\n",
    "for k, v in metrics.all_metrics(m.ctm, m.ncm).items():\n",
    "    tmp[k] = v\n",
    "t3.append(tmp)"
   ]
  },
  {
   "cell_type": "code",
   "execution_count": 73,
   "metadata": {},
   "outputs": [
    {
     "data": {
      "text/html": [
       "<div>\n",
       "<style scoped>\n",
       "    .dataframe tbody tr th:only-of-type {\n",
       "        vertical-align: middle;\n",
       "    }\n",
       "\n",
       "    .dataframe tbody tr th {\n",
       "        vertical-align: top;\n",
       "    }\n",
       "\n",
       "    .dataframe thead th {\n",
       "        text-align: right;\n",
       "    }\n",
       "</style>\n",
       "<table border=\"1\" class=\"dataframe\">\n",
       "  <thead>\n",
       "    <tr style=\"text-align: right;\">\n",
       "      <th></th>\n",
       "      <th>true_obs_effect</th>\n",
       "      <th>obs effect</th>\n",
       "      <th>ncm_obs_effect</th>\n",
       "      <th>true_ate</th>\n",
       "      <th>ncm_ate</th>\n",
       "      <th>kl</th>\n",
       "      <th>supremum_norm</th>\n",
       "    </tr>\n",
       "    <tr>\n",
       "      <th>bow graph run</th>\n",
       "      <th></th>\n",
       "      <th></th>\n",
       "      <th></th>\n",
       "      <th></th>\n",
       "      <th></th>\n",
       "      <th></th>\n",
       "      <th></th>\n",
       "    </tr>\n",
       "  </thead>\n",
       "  <tbody>\n",
       "    <tr>\n",
       "      <th>0</th>\n",
       "      <td>0.232097</td>\n",
       "      <td>0.255174</td>\n",
       "      <td>0.257038</td>\n",
       "      <td>0.010851</td>\n",
       "      <td>0.256474</td>\n",
       "      <td>0.000197</td>\n",
       "      <td>0.002974</td>\n",
       "    </tr>\n",
       "    <tr>\n",
       "      <th>1</th>\n",
       "      <td>0.062687</td>\n",
       "      <td>0.054190</td>\n",
       "      <td>0.056226</td>\n",
       "      <td>0.177448</td>\n",
       "      <td>0.055701</td>\n",
       "      <td>0.000151</td>\n",
       "      <td>0.006151</td>\n",
       "    </tr>\n",
       "    <tr>\n",
       "      <th>2</th>\n",
       "      <td>0.003147</td>\n",
       "      <td>0.010869</td>\n",
       "      <td>0.012482</td>\n",
       "      <td>0.164128</td>\n",
       "      <td>0.011901</td>\n",
       "      <td>0.000620</td>\n",
       "      <td>0.013210</td>\n",
       "    </tr>\n",
       "  </tbody>\n",
       "</table>\n",
       "</div>"
      ],
      "text/plain": [
       "               true_obs_effect  obs effect  ncm_obs_effect  true_ate  \\\n",
       "bow graph run                                                          \n",
       "0                     0.232097    0.255174        0.257038  0.010851   \n",
       "1                     0.062687    0.054190        0.056226  0.177448   \n",
       "2                     0.003147    0.010869        0.012482  0.164128   \n",
       "\n",
       "                ncm_ate        kl  supremum_norm  \n",
       "bow graph run                                     \n",
       "0              0.256474  0.000197       0.002974  \n",
       "1              0.055701  0.000151       0.006151  \n",
       "2              0.011901  0.000620       0.013210  "
      ]
     },
     "execution_count": 73,
     "metadata": {},
     "output_type": "execute_result"
    }
   ],
   "source": [
    "df = pd.DataFrame.from_records(t3)[['true_obs_effect', 'obs effect', 'ncm_obs_effect',\n",
    "                               'true_ate', 'ncm_ate', 'kl', 'supremum_norm']]\n",
    "df.index = df.index.rename('bow graph run')\n",
    "df"
   ]
  },
  {
   "cell_type": "code",
   "execution_count": 74,
   "metadata": {},
   "outputs": [
    {
     "data": {
      "text/plain": [
       "{'rmse_ncm': '0.31357', 'rmse_ncm_obs': '0.31353', 'rmse_obs': '0.31365'}"
      ]
     },
     "execution_count": 74,
     "metadata": {},
     "output_type": "execute_result"
    }
   ],
   "source": [
    "{\n",
    "    'rmse_ncm': '%.5f'%((df.true_ate - df.ncm_ate)**2).sum()**.5,\n",
    "    'rmse_ncm_obs': '%.5f'%((df.true_ate - df['ncm_obs_effect'])**2).sum()**.5,\n",
    "    'rmse_obs': '%.5f'%((df.true_ate - df['obs effect'])**2).sum()**.5,\n",
    "}"
   ]
  },
  {
   "cell_type": "code",
   "execution_count": null,
   "metadata": {},
   "outputs": [],
   "source": []
  },
  {
   "cell_type": "code",
   "execution_count": 16,
   "metadata": {},
   "outputs": [
    {
     "data": {
      "text/html": [
       "<div>\n",
       "<style scoped>\n",
       "    .dataframe tbody tr th:only-of-type {\n",
       "        vertical-align: middle;\n",
       "    }\n",
       "\n",
       "    .dataframe tbody tr th {\n",
       "        vertical-align: top;\n",
       "    }\n",
       "\n",
       "    .dataframe thead th {\n",
       "        text-align: right;\n",
       "    }\n",
       "</style>\n",
       "<table border=\"1\" class=\"dataframe\">\n",
       "  <thead>\n",
       "    <tr style=\"text-align: right;\">\n",
       "      <th></th>\n",
       "      <th>Z</th>\n",
       "      <th>X</th>\n",
       "      <th>Y</th>\n",
       "      <th>P(V)</th>\n",
       "      <th>P(V | do(X=1))</th>\n",
       "      <th>P(V | do(X=0))</th>\n",
       "    </tr>\n",
       "  </thead>\n",
       "  <tbody>\n",
       "    <tr>\n",
       "      <th>0</th>\n",
       "      <td>0</td>\n",
       "      <td>0</td>\n",
       "      <td>0</td>\n",
       "      <td>0.093762</td>\n",
       "      <td>0.000000</td>\n",
       "      <td>0.632677</td>\n",
       "    </tr>\n",
       "    <tr>\n",
       "      <th>1</th>\n",
       "      <td>0</td>\n",
       "      <td>0</td>\n",
       "      <td>1</td>\n",
       "      <td>0.032607</td>\n",
       "      <td>0.000000</td>\n",
       "      <td>0.220019</td>\n",
       "    </tr>\n",
       "    <tr>\n",
       "      <th>2</th>\n",
       "      <td>0</td>\n",
       "      <td>1</td>\n",
       "      <td>0</td>\n",
       "      <td>0.591106</td>\n",
       "      <td>0.693949</td>\n",
       "      <td>0.000000</td>\n",
       "    </tr>\n",
       "    <tr>\n",
       "      <th>3</th>\n",
       "      <td>0</td>\n",
       "      <td>1</td>\n",
       "      <td>1</td>\n",
       "      <td>0.135220</td>\n",
       "      <td>0.158746</td>\n",
       "      <td>0.000000</td>\n",
       "    </tr>\n",
       "    <tr>\n",
       "      <th>4</th>\n",
       "      <td>1</td>\n",
       "      <td>0</td>\n",
       "      <td>0</td>\n",
       "      <td>0.085777</td>\n",
       "      <td>0.000000</td>\n",
       "      <td>0.122569</td>\n",
       "    </tr>\n",
       "    <tr>\n",
       "      <th>5</th>\n",
       "      <td>1</td>\n",
       "      <td>0</td>\n",
       "      <td>1</td>\n",
       "      <td>0.017310</td>\n",
       "      <td>0.000000</td>\n",
       "      <td>0.024735</td>\n",
       "    </tr>\n",
       "    <tr>\n",
       "      <th>6</th>\n",
       "      <td>1</td>\n",
       "      <td>1</td>\n",
       "      <td>0</td>\n",
       "      <td>0.035214</td>\n",
       "      <td>0.117312</td>\n",
       "      <td>0.000000</td>\n",
       "    </tr>\n",
       "    <tr>\n",
       "      <th>7</th>\n",
       "      <td>1</td>\n",
       "      <td>1</td>\n",
       "      <td>1</td>\n",
       "      <td>0.009003</td>\n",
       "      <td>0.029993</td>\n",
       "      <td>0.000000</td>\n",
       "    </tr>\n",
       "  </tbody>\n",
       "</table>\n",
       "</div>"
      ],
      "text/plain": [
       "   Z  X  Y      P(V)  P(V | do(X=1))  P(V | do(X=0))\n",
       "0  0  0  0  0.093762        0.000000        0.632677\n",
       "1  0  0  1  0.032607        0.000000        0.220019\n",
       "2  0  1  0  0.591106        0.693949        0.000000\n",
       "3  0  1  1  0.135220        0.158746        0.000000\n",
       "4  1  0  0  0.085777        0.000000        0.122569\n",
       "5  1  0  1  0.017310        0.000000        0.024735\n",
       "6  1  1  0  0.035214        0.117312        0.000000\n",
       "7  1  1  1  0.009003        0.029993        0.000000"
      ]
     },
     "metadata": {},
     "output_type": "display_data"
    },
    {
     "data": {
      "text/html": [
       "<div>\n",
       "<style scoped>\n",
       "    .dataframe tbody tr th:only-of-type {\n",
       "        vertical-align: middle;\n",
       "    }\n",
       "\n",
       "    .dataframe tbody tr th {\n",
       "        vertical-align: top;\n",
       "    }\n",
       "\n",
       "    .dataframe thead th {\n",
       "        text-align: right;\n",
       "    }\n",
       "</style>\n",
       "<table border=\"1\" class=\"dataframe\">\n",
       "  <thead>\n",
       "    <tr style=\"text-align: right;\">\n",
       "      <th></th>\n",
       "      <th></th>\n",
       "      <th>Z</th>\n",
       "      <th>P(V)</th>\n",
       "      <th>P(V | do(X=1))</th>\n",
       "      <th>P(V | do(X=0))</th>\n",
       "    </tr>\n",
       "    <tr>\n",
       "      <th>X</th>\n",
       "      <th>Y</th>\n",
       "      <th></th>\n",
       "      <th></th>\n",
       "      <th></th>\n",
       "      <th></th>\n",
       "    </tr>\n",
       "  </thead>\n",
       "  <tbody>\n",
       "    <tr>\n",
       "      <th rowspan=\"2\" valign=\"top\">0</th>\n",
       "      <th>0</th>\n",
       "      <td>1</td>\n",
       "      <td>0.179539</td>\n",
       "      <td>0.000000</td>\n",
       "      <td>0.755246</td>\n",
       "    </tr>\n",
       "    <tr>\n",
       "      <th>1</th>\n",
       "      <td>1</td>\n",
       "      <td>0.049917</td>\n",
       "      <td>0.000000</td>\n",
       "      <td>0.244754</td>\n",
       "    </tr>\n",
       "    <tr>\n",
       "      <th rowspan=\"2\" valign=\"top\">1</th>\n",
       "      <th>0</th>\n",
       "      <td>1</td>\n",
       "      <td>0.626321</td>\n",
       "      <td>0.811261</td>\n",
       "      <td>0.000000</td>\n",
       "    </tr>\n",
       "    <tr>\n",
       "      <th>1</th>\n",
       "      <td>1</td>\n",
       "      <td>0.144223</td>\n",
       "      <td>0.188739</td>\n",
       "      <td>0.000000</td>\n",
       "    </tr>\n",
       "  </tbody>\n",
       "</table>\n",
       "</div>"
      ],
      "text/plain": [
       "     Z      P(V)  P(V | do(X=1))  P(V | do(X=0))\n",
       "X Y                                             \n",
       "0 0  1  0.179539        0.000000        0.755246\n",
       "  1  1  0.049917        0.000000        0.244754\n",
       "1 0  1  0.626321        0.811261        0.000000\n",
       "  1  1  0.144223        0.188739        0.000000"
      ]
     },
     "metadata": {},
     "output_type": "display_data"
    },
    {
     "name": "stdout",
     "output_type": "stream",
     "text": [
      "{'true_ate': -0.05601458251476288, 'ncm_ate': -0.05601458251476288, 'true_obs_effect': -0.030373276980473235, 'ncm_obs_effect': -0.030373276980473235, 'kl': 0.0, 'supremum_norm': 0.0}\n"
     ]
    }
   ],
   "source": [
    "truth, dat, train_loader, val_loader = utils.datagen(cg_file, n=n)\n",
    "ctm = truth\n",
    "display(pd.merge(\n",
    "    pd.merge(\n",
    "        metrics.probability_table(ctm, n=n),\n",
    "        (metrics.probability_table(ctm, n=n, do={'X': T.ones(1, 1).long()})\n",
    "         .rename({'P(V)': 'P(V | do(X=1))'}, axis=1))),\n",
    "    (metrics.probability_table(ctm, n=n, do={'X': T.zeros(1, 1).long()})\n",
    "     .rename({'P(V)': 'P(V | do(X=0))'}, axis=1))))\n",
    "\n",
    "display(pd.merge(\n",
    "    pd.merge(\n",
    "        metrics.probability_table(ctm, n=n),\n",
    "        (metrics.probability_table(ctm, n=n, do={'X': T.ones(1, 1).long()})\n",
    "         .rename({'P(V)': 'P(V | do(X=1))'}, axis=1))),\n",
    "    (metrics.probability_table(ctm, n=n, do={'X': T.zeros(1, 1).long()})\n",
    "     .rename({'P(V)': 'P(V | do(X=0))'}, axis=1))).groupby(['X', 'Y']).sum())\n",
    "\n",
    "print(metrics.all_metrics(ctm, ctm))"
   ]
  },
  {
   "cell_type": "code",
   "execution_count": 6,
   "metadata": {},
   "outputs": [
    {
     "name": "stdout",
     "output_type": "stream",
     "text": [
      "dat obs effect -0.08716708421707153\n",
      "dat ate -0.11225023865699768\n"
     ]
    }
   ],
   "source": [
    "print('dat obs effect',\n",
    "      (dat['Y'][dat['X'] == 1].float().mean()\n",
    "       - dat['Y'][dat['X'] == 0].float().mean()).item())\n",
    "print('dat ate',\n",
    "      ((((dat['Y'][(dat['X'] == 1) & (dat['Z'] == 0)].float().mean())\n",
    "         * (1 - dat['Z'].float().mean()))\n",
    "        + ((dat['Y'][(dat['X'] == 1) & (dat['Z'] == 1)].float().mean())\n",
    "           * (dat['Z'].float().mean())))\n",
    "       - (((dat['Y'][(dat['X'] == 0) & (dat['Z'] == 0)].float().mean())\n",
    "         * (1 - dat['Z'].float().mean()))\n",
    "        + ((dat['Y'][(dat['X'] == 0) & (dat['Z'] == 1)].float().mean())\n",
    "           * (dat['Z'].float().mean())))).item())"
   ]
  },
  {
   "cell_type": "code",
   "execution_count": 11,
   "metadata": {},
   "outputs": [
    {
     "data": {
      "text/html": [
       "<div>\n",
       "<style scoped>\n",
       "    .dataframe tbody tr th:only-of-type {\n",
       "        vertical-align: middle;\n",
       "    }\n",
       "\n",
       "    .dataframe tbody tr th {\n",
       "        vertical-align: top;\n",
       "    }\n",
       "\n",
       "    .dataframe thead th {\n",
       "        text-align: right;\n",
       "    }\n",
       "</style>\n",
       "<table border=\"1\" class=\"dataframe\">\n",
       "  <thead>\n",
       "    <tr style=\"text-align: right;\">\n",
       "      <th></th>\n",
       "      <th>Z</th>\n",
       "      <th>X</th>\n",
       "      <th>Y</th>\n",
       "      <th>P(V)</th>\n",
       "      <th>P(V | do(X=1))</th>\n",
       "      <th>P(V | do(X=0))</th>\n",
       "    </tr>\n",
       "  </thead>\n",
       "  <tbody>\n",
       "    <tr>\n",
       "      <th>0</th>\n",
       "      <td>0</td>\n",
       "      <td>0</td>\n",
       "      <td>0</td>\n",
       "      <td>0.1649</td>\n",
       "      <td>NaN</td>\n",
       "      <td>0.2624</td>\n",
       "    </tr>\n",
       "    <tr>\n",
       "      <th>1</th>\n",
       "      <td>0</td>\n",
       "      <td>0</td>\n",
       "      <td>1</td>\n",
       "      <td>0.2091</td>\n",
       "      <td>NaN</td>\n",
       "      <td>0.3324</td>\n",
       "    </tr>\n",
       "    <tr>\n",
       "      <th>2</th>\n",
       "      <td>0</td>\n",
       "      <td>1</td>\n",
       "      <td>0</td>\n",
       "      <td>0.0857</td>\n",
       "      <td>0.2324</td>\n",
       "      <td>NaN</td>\n",
       "    </tr>\n",
       "    <tr>\n",
       "      <th>3</th>\n",
       "      <td>0</td>\n",
       "      <td>1</td>\n",
       "      <td>1</td>\n",
       "      <td>0.1365</td>\n",
       "      <td>0.3603</td>\n",
       "      <td>NaN</td>\n",
       "    </tr>\n",
       "    <tr>\n",
       "      <th>4</th>\n",
       "      <td>1</td>\n",
       "      <td>0</td>\n",
       "      <td>0</td>\n",
       "      <td>0.1334</td>\n",
       "      <td>NaN</td>\n",
       "      <td>0.2085</td>\n",
       "    </tr>\n",
       "    <tr>\n",
       "      <th>5</th>\n",
       "      <td>1</td>\n",
       "      <td>0</td>\n",
       "      <td>1</td>\n",
       "      <td>0.1280</td>\n",
       "      <td>NaN</td>\n",
       "      <td>0.1967</td>\n",
       "    </tr>\n",
       "    <tr>\n",
       "      <th>6</th>\n",
       "      <td>1</td>\n",
       "      <td>1</td>\n",
       "      <td>0</td>\n",
       "      <td>0.0601</td>\n",
       "      <td>0.1740</td>\n",
       "      <td>NaN</td>\n",
       "    </tr>\n",
       "    <tr>\n",
       "      <th>7</th>\n",
       "      <td>1</td>\n",
       "      <td>1</td>\n",
       "      <td>1</td>\n",
       "      <td>0.0823</td>\n",
       "      <td>0.2333</td>\n",
       "      <td>NaN</td>\n",
       "    </tr>\n",
       "  </tbody>\n",
       "</table>\n",
       "</div>"
      ],
      "text/plain": [
       "   Z  X  Y    P(V)  P(V | do(X=1))  P(V | do(X=0))\n",
       "0  0  0  0  0.1649             NaN          0.2624\n",
       "1  0  0  1  0.2091             NaN          0.3324\n",
       "2  0  1  0  0.0857          0.2324             NaN\n",
       "3  0  1  1  0.1365          0.3603             NaN\n",
       "4  1  0  0  0.1334             NaN          0.2085\n",
       "5  1  0  1  0.1280             NaN          0.1967\n",
       "6  1  1  0  0.0601          0.1740             NaN\n",
       "7  1  1  1  0.0823          0.2333             NaN"
      ]
     },
     "metadata": {},
     "output_type": "display_data"
    },
    {
     "data": {
      "text/html": [
       "<div>\n",
       "<style scoped>\n",
       "    .dataframe tbody tr th:only-of-type {\n",
       "        vertical-align: middle;\n",
       "    }\n",
       "\n",
       "    .dataframe tbody tr th {\n",
       "        vertical-align: top;\n",
       "    }\n",
       "\n",
       "    .dataframe thead th {\n",
       "        text-align: right;\n",
       "    }\n",
       "</style>\n",
       "<table border=\"1\" class=\"dataframe\">\n",
       "  <thead>\n",
       "    <tr style=\"text-align: right;\">\n",
       "      <th></th>\n",
       "      <th></th>\n",
       "      <th>Z</th>\n",
       "      <th>P(V)</th>\n",
       "      <th>P(V | do(X=1))</th>\n",
       "      <th>P(V | do(X=0))</th>\n",
       "    </tr>\n",
       "    <tr>\n",
       "      <th>X</th>\n",
       "      <th>Y</th>\n",
       "      <th></th>\n",
       "      <th></th>\n",
       "      <th></th>\n",
       "      <th></th>\n",
       "    </tr>\n",
       "  </thead>\n",
       "  <tbody>\n",
       "    <tr>\n",
       "      <th rowspan=\"2\" valign=\"top\">0</th>\n",
       "      <th>0</th>\n",
       "      <td>1</td>\n",
       "      <td>0.2945</td>\n",
       "      <td>0.0000</td>\n",
       "      <td>0.4601</td>\n",
       "    </tr>\n",
       "    <tr>\n",
       "      <th>1</th>\n",
       "      <td>1</td>\n",
       "      <td>0.3450</td>\n",
       "      <td>0.0000</td>\n",
       "      <td>0.5399</td>\n",
       "    </tr>\n",
       "    <tr>\n",
       "      <th rowspan=\"2\" valign=\"top\">1</th>\n",
       "      <th>0</th>\n",
       "      <td>1</td>\n",
       "      <td>0.1444</td>\n",
       "      <td>0.3893</td>\n",
       "      <td>0.0000</td>\n",
       "    </tr>\n",
       "    <tr>\n",
       "      <th>1</th>\n",
       "      <td>1</td>\n",
       "      <td>0.2161</td>\n",
       "      <td>0.6107</td>\n",
       "      <td>0.0000</td>\n",
       "    </tr>\n",
       "  </tbody>\n",
       "</table>\n",
       "</div>"
      ],
      "text/plain": [
       "     Z    P(V)  P(V | do(X=1))  P(V | do(X=0))\n",
       "X Y                                           \n",
       "0 0  1  0.2945          0.0000          0.4601\n",
       "  1  1  0.3450          0.0000          0.5399\n",
       "1 0  1  0.1444          0.3893          0.0000\n",
       "  1  1  0.2161          0.6107          0.0000"
      ]
     },
     "metadata": {},
     "output_type": "display_data"
    }
   ],
   "source": [
    "ncm = NCM(CausalGraph.read(f'../dat/cg/{g}.cg'), default_module=Simple)\n",
    "display(pd.merge(\n",
    "    pd.merge(\n",
    "        metrics.probability_table(ncm, n=n),\n",
    "        (metrics.probability_table(ncm, n=n, do={'X': T.ones(n, 1)})\n",
    "         .rename({'P(V)': 'P(V | do(X=1))'}, axis=1)), how='outer'),\n",
    "    (metrics.probability_table(ncm, n=n, do={'X': T.zeros(n, 1)})\n",
    "     .rename({'P(V)': 'P(V | do(X=0))'}, axis=1)), how='outer'))\n",
    "\n",
    "display(pd.merge(\n",
    "    pd.merge(\n",
    "        metrics.probability_table(ncm, n=n),\n",
    "        (metrics.probability_table(ncm, n=n, do={'X': T.ones(n, 1)})\n",
    "         .rename({'P(V)': 'P(V | do(X=1))'}, axis=1)), how='outer'),\n",
    "    (metrics.probability_table(ncm, n=n, do={'X': T.zeros(n, 1)})\n",
    "     .rename({'P(V)': 'P(V | do(X=0))'}, axis=1)), how='outer').groupby(['X', 'Y']).sum())"
   ]
  },
  {
   "cell_type": "code",
   "execution_count": 12,
   "metadata": {},
   "outputs": [],
   "source": [
    "d = 'out/tmp'"
   ]
  },
  {
   "cell_type": "code",
   "execution_count": 13,
   "metadata": {},
   "outputs": [],
   "source": [
    "rm -rf out/tmp"
   ]
  },
  {
   "cell_type": "code",
   "execution_count": 14,
   "metadata": {},
   "outputs": [
    {
     "name": "stderr",
     "output_type": "stream",
     "text": [
      "GPU available: False, used: False\n",
      "INFO:lightning:GPU available: False, used: False\n",
      "TPU available: None, using: 0 TPU cores\n",
      "INFO:lightning:TPU available: None, using: 0 TPU cores\n",
      "\n",
      "  | Name | Type | Params\n",
      "------------------------------\n",
      "0 | ctm  | CTM  | 22    \n",
      "1 | ncm  | NCM  | 100 K \n",
      "------------------------------\n",
      "100 K     Trainable params\n",
      "0         Non-trainable params\n",
      "100 K     Total params\n",
      "INFO:lightning:\n",
      "  | Name | Type | Params\n",
      "------------------------------\n",
      "0 | ctm  | CTM  | 22    \n",
      "1 | ncm  | NCM  | 100 K \n",
      "------------------------------\n",
      "100 K     Trainable params\n",
      "0         Non-trainable params\n",
      "100 K     Total params\n",
      "/Users/klee989/.miniconda3/lib/python3.7/site-packages/pytorch_lightning/utilities/distributed.py:49: UserWarning: The dataloader, val dataloader 0, does not have many workers which may be a bottleneck. Consider increasing the value of the `num_workers` argument` (try 12 which is the number of cpus on this machine) in the `DataLoader` init to improve performance.\n",
      "  warnings.warn(*args, **kwargs)\n"
     ]
    },
    {
     "data": {
      "application/vnd.jupyter.widget-view+json": {
       "model_id": "",
       "version_major": 2,
       "version_minor": 0
      },
      "text/plain": [
       "HBox(children=(FloatProgress(value=1.0, bar_style='info', description='Validation sanity check', layout=Layout…"
      ]
     },
     "metadata": {},
     "output_type": "display_data"
    },
    {
     "name": "stderr",
     "output_type": "stream",
     "text": [
      "/Users/klee989/.miniconda3/lib/python3.7/site-packages/pytorch_lightning/utilities/distributed.py:49: UserWarning: The dataloader, train dataloader, does not have many workers which may be a bottleneck. Consider increasing the value of the `num_workers` argument` (try 12 which is the number of cpus on this machine) in the `DataLoader` init to improve performance.\n",
      "  warnings.warn(*args, **kwargs)\n"
     ]
    },
    {
     "data": {
      "application/vnd.jupyter.widget-view+json": {
       "model_id": "1552f7ab620f412eaf996d6c8c861306",
       "version_major": 2,
       "version_minor": 0
      },
      "text/plain": [
       "HBox(children=(FloatProgress(value=1.0, bar_style='info', description='Training', layout=Layout(flex='2'), max…"
      ]
     },
     "metadata": {},
     "output_type": "display_data"
    },
    {
     "data": {
      "application/vnd.jupyter.widget-view+json": {
       "model_id": "",
       "version_major": 2,
       "version_minor": 0
      },
      "text/plain": [
       "HBox(children=(FloatProgress(value=1.0, bar_style='info', description='Validating', layout=Layout(flex='2'), m…"
      ]
     },
     "metadata": {},
     "output_type": "display_data"
    },
    {
     "data": {
      "application/vnd.jupyter.widget-view+json": {
       "model_id": "",
       "version_major": 2,
       "version_minor": 0
      },
      "text/plain": [
       "HBox(children=(FloatProgress(value=1.0, bar_style='info', description='Validating', layout=Layout(flex='2'), m…"
      ]
     },
     "metadata": {},
     "output_type": "display_data"
    },
    {
     "data": {
      "application/vnd.jupyter.widget-view+json": {
       "model_id": "",
       "version_major": 2,
       "version_minor": 0
      },
      "text/plain": [
       "HBox(children=(FloatProgress(value=1.0, bar_style='info', description='Validating', layout=Layout(flex='2'), m…"
      ]
     },
     "metadata": {},
     "output_type": "display_data"
    },
    {
     "data": {
      "application/vnd.jupyter.widget-view+json": {
       "model_id": "",
       "version_major": 2,
       "version_minor": 0
      },
      "text/plain": [
       "HBox(children=(FloatProgress(value=1.0, bar_style='info', description='Validating', layout=Layout(flex='2'), m…"
      ]
     },
     "metadata": {},
     "output_type": "display_data"
    },
    {
     "data": {
      "application/vnd.jupyter.widget-view+json": {
       "model_id": "",
       "version_major": 2,
       "version_minor": 0
      },
      "text/plain": [
       "HBox(children=(FloatProgress(value=1.0, bar_style='info', description='Validating', layout=Layout(flex='2'), m…"
      ]
     },
     "metadata": {},
     "output_type": "display_data"
    },
    {
     "data": {
      "application/vnd.jupyter.widget-view+json": {
       "model_id": "",
       "version_major": 2,
       "version_minor": 0
      },
      "text/plain": [
       "HBox(children=(FloatProgress(value=1.0, bar_style='info', description='Validating', layout=Layout(flex='2'), m…"
      ]
     },
     "metadata": {},
     "output_type": "display_data"
    },
    {
     "data": {
      "application/vnd.jupyter.widget-view+json": {
       "model_id": "",
       "version_major": 2,
       "version_minor": 0
      },
      "text/plain": [
       "HBox(children=(FloatProgress(value=1.0, bar_style='info', description='Validating', layout=Layout(flex='2'), m…"
      ]
     },
     "metadata": {},
     "output_type": "display_data"
    },
    {
     "data": {
      "application/vnd.jupyter.widget-view+json": {
       "model_id": "",
       "version_major": 2,
       "version_minor": 0
      },
      "text/plain": [
       "HBox(children=(FloatProgress(value=1.0, bar_style='info', description='Validating', layout=Layout(flex='2'), m…"
      ]
     },
     "metadata": {},
     "output_type": "display_data"
    },
    {
     "data": {
      "application/vnd.jupyter.widget-view+json": {
       "model_id": "",
       "version_major": 2,
       "version_minor": 0
      },
      "text/plain": [
       "HBox(children=(FloatProgress(value=1.0, bar_style='info', description='Validating', layout=Layout(flex='2'), m…"
      ]
     },
     "metadata": {},
     "output_type": "display_data"
    },
    {
     "data": {
      "application/vnd.jupyter.widget-view+json": {
       "model_id": "",
       "version_major": 2,
       "version_minor": 0
      },
      "text/plain": [
       "HBox(children=(FloatProgress(value=1.0, bar_style='info', description='Validating', layout=Layout(flex='2'), m…"
      ]
     },
     "metadata": {},
     "output_type": "display_data"
    },
    {
     "data": {
      "application/vnd.jupyter.widget-view+json": {
       "model_id": "",
       "version_major": 2,
       "version_minor": 0
      },
      "text/plain": [
       "HBox(children=(FloatProgress(value=1.0, bar_style='info', description='Validating', layout=Layout(flex='2'), m…"
      ]
     },
     "metadata": {},
     "output_type": "display_data"
    },
    {
     "data": {
      "application/vnd.jupyter.widget-view+json": {
       "model_id": "",
       "version_major": 2,
       "version_minor": 0
      },
      "text/plain": [
       "HBox(children=(FloatProgress(value=1.0, bar_style='info', description='Validating', layout=Layout(flex='2'), m…"
      ]
     },
     "metadata": {},
     "output_type": "display_data"
    },
    {
     "data": {
      "application/vnd.jupyter.widget-view+json": {
       "model_id": "",
       "version_major": 2,
       "version_minor": 0
      },
      "text/plain": [
       "HBox(children=(FloatProgress(value=1.0, bar_style='info', description='Validating', layout=Layout(flex='2'), m…"
      ]
     },
     "metadata": {},
     "output_type": "display_data"
    },
    {
     "data": {
      "application/vnd.jupyter.widget-view+json": {
       "model_id": "",
       "version_major": 2,
       "version_minor": 0
      },
      "text/plain": [
       "HBox(children=(FloatProgress(value=1.0, bar_style='info', description='Validating', layout=Layout(flex='2'), m…"
      ]
     },
     "metadata": {},
     "output_type": "display_data"
    },
    {
     "data": {
      "application/vnd.jupyter.widget-view+json": {
       "model_id": "",
       "version_major": 2,
       "version_minor": 0
      },
      "text/plain": [
       "HBox(children=(FloatProgress(value=1.0, bar_style='info', description='Validating', layout=Layout(flex='2'), m…"
      ]
     },
     "metadata": {},
     "output_type": "display_data"
    },
    {
     "data": {
      "application/vnd.jupyter.widget-view+json": {
       "model_id": "",
       "version_major": 2,
       "version_minor": 0
      },
      "text/plain": [
       "HBox(children=(FloatProgress(value=1.0, bar_style='info', description='Validating', layout=Layout(flex='2'), m…"
      ]
     },
     "metadata": {},
     "output_type": "display_data"
    },
    {
     "data": {
      "application/vnd.jupyter.widget-view+json": {
       "model_id": "",
       "version_major": 2,
       "version_minor": 0
      },
      "text/plain": [
       "HBox(children=(FloatProgress(value=1.0, bar_style='info', description='Validating', layout=Layout(flex='2'), m…"
      ]
     },
     "metadata": {},
     "output_type": "display_data"
    },
    {
     "data": {
      "application/vnd.jupyter.widget-view+json": {
       "model_id": "",
       "version_major": 2,
       "version_minor": 0
      },
      "text/plain": [
       "HBox(children=(FloatProgress(value=1.0, bar_style='info', description='Validating', layout=Layout(flex='2'), m…"
      ]
     },
     "metadata": {},
     "output_type": "display_data"
    },
    {
     "data": {
      "application/vnd.jupyter.widget-view+json": {
       "model_id": "",
       "version_major": 2,
       "version_minor": 0
      },
      "text/plain": [
       "HBox(children=(FloatProgress(value=1.0, bar_style='info', description='Validating', layout=Layout(flex='2'), m…"
      ]
     },
     "metadata": {},
     "output_type": "display_data"
    },
    {
     "data": {
      "application/vnd.jupyter.widget-view+json": {
       "model_id": "",
       "version_major": 2,
       "version_minor": 0
      },
      "text/plain": [
       "HBox(children=(FloatProgress(value=1.0, bar_style='info', description='Validating', layout=Layout(flex='2'), m…"
      ]
     },
     "metadata": {},
     "output_type": "display_data"
    },
    {
     "data": {
      "application/vnd.jupyter.widget-view+json": {
       "model_id": "",
       "version_major": 2,
       "version_minor": 0
      },
      "text/plain": [
       "HBox(children=(FloatProgress(value=1.0, bar_style='info', description='Validating', layout=Layout(flex='2'), m…"
      ]
     },
     "metadata": {},
     "output_type": "display_data"
    },
    {
     "data": {
      "application/vnd.jupyter.widget-view+json": {
       "model_id": "",
       "version_major": 2,
       "version_minor": 0
      },
      "text/plain": [
       "HBox(children=(FloatProgress(value=1.0, bar_style='info', description='Validating', layout=Layout(flex='2'), m…"
      ]
     },
     "metadata": {},
     "output_type": "display_data"
    },
    {
     "data": {
      "application/vnd.jupyter.widget-view+json": {
       "model_id": "",
       "version_major": 2,
       "version_minor": 0
      },
      "text/plain": [
       "HBox(children=(FloatProgress(value=1.0, bar_style='info', description='Validating', layout=Layout(flex='2'), m…"
      ]
     },
     "metadata": {},
     "output_type": "display_data"
    },
    {
     "data": {
      "application/vnd.jupyter.widget-view+json": {
       "model_id": "",
       "version_major": 2,
       "version_minor": 0
      },
      "text/plain": [
       "HBox(children=(FloatProgress(value=1.0, bar_style='info', description='Validating', layout=Layout(flex='2'), m…"
      ]
     },
     "metadata": {},
     "output_type": "display_data"
    },
    {
     "data": {
      "application/vnd.jupyter.widget-view+json": {
       "model_id": "",
       "version_major": 2,
       "version_minor": 0
      },
      "text/plain": [
       "HBox(children=(FloatProgress(value=1.0, bar_style='info', description='Validating', layout=Layout(flex='2'), m…"
      ]
     },
     "metadata": {},
     "output_type": "display_data"
    },
    {
     "data": {
      "application/vnd.jupyter.widget-view+json": {
       "model_id": "",
       "version_major": 2,
       "version_minor": 0
      },
      "text/plain": [
       "HBox(children=(FloatProgress(value=1.0, bar_style='info', description='Validating', layout=Layout(flex='2'), m…"
      ]
     },
     "metadata": {},
     "output_type": "display_data"
    },
    {
     "data": {
      "application/vnd.jupyter.widget-view+json": {
       "model_id": "",
       "version_major": 2,
       "version_minor": 0
      },
      "text/plain": [
       "HBox(children=(FloatProgress(value=1.0, bar_style='info', description='Validating', layout=Layout(flex='2'), m…"
      ]
     },
     "metadata": {},
     "output_type": "display_data"
    },
    {
     "data": {
      "application/vnd.jupyter.widget-view+json": {
       "model_id": "",
       "version_major": 2,
       "version_minor": 0
      },
      "text/plain": [
       "HBox(children=(FloatProgress(value=1.0, bar_style='info', description='Validating', layout=Layout(flex='2'), m…"
      ]
     },
     "metadata": {},
     "output_type": "display_data"
    },
    {
     "data": {
      "application/vnd.jupyter.widget-view+json": {
       "model_id": "",
       "version_major": 2,
       "version_minor": 0
      },
      "text/plain": [
       "HBox(children=(FloatProgress(value=1.0, bar_style='info', description='Validating', layout=Layout(flex='2'), m…"
      ]
     },
     "metadata": {},
     "output_type": "display_data"
    },
    {
     "data": {
      "application/vnd.jupyter.widget-view+json": {
       "model_id": "",
       "version_major": 2,
       "version_minor": 0
      },
      "text/plain": [
       "HBox(children=(FloatProgress(value=1.0, bar_style='info', description='Validating', layout=Layout(flex='2'), m…"
      ]
     },
     "metadata": {},
     "output_type": "display_data"
    },
    {
     "data": {
      "application/vnd.jupyter.widget-view+json": {
       "model_id": "",
       "version_major": 2,
       "version_minor": 0
      },
      "text/plain": [
       "HBox(children=(FloatProgress(value=1.0, bar_style='info', description='Validating', layout=Layout(flex='2'), m…"
      ]
     },
     "metadata": {},
     "output_type": "display_data"
    },
    {
     "data": {
      "application/vnd.jupyter.widget-view+json": {
       "model_id": "",
       "version_major": 2,
       "version_minor": 0
      },
      "text/plain": [
       "HBox(children=(FloatProgress(value=1.0, bar_style='info', description='Validating', layout=Layout(flex='2'), m…"
      ]
     },
     "metadata": {},
     "output_type": "display_data"
    },
    {
     "data": {
      "application/vnd.jupyter.widget-view+json": {
       "model_id": "",
       "version_major": 2,
       "version_minor": 0
      },
      "text/plain": [
       "HBox(children=(FloatProgress(value=1.0, bar_style='info', description='Validating', layout=Layout(flex='2'), m…"
      ]
     },
     "metadata": {},
     "output_type": "display_data"
    },
    {
     "data": {
      "application/vnd.jupyter.widget-view+json": {
       "model_id": "",
       "version_major": 2,
       "version_minor": 0
      },
      "text/plain": [
       "HBox(children=(FloatProgress(value=1.0, bar_style='info', description='Validating', layout=Layout(flex='2'), m…"
      ]
     },
     "metadata": {},
     "output_type": "display_data"
    },
    {
     "name": "stdout",
     "output_type": "stream",
     "text": [
      "\n"
     ]
    }
   ],
   "source": [
    "m = NLLModule(truth, ncm)\n",
    "trainer = pl.Trainer(\n",
    "    callbacks=[pl.callbacks.EarlyStopping(monitor='val_loss', patience=10)],\n",
    "    max_epochs=100,\n",
    "    accumulate_grad_batches=100,\n",
    "    default_root_dir=f'{d}/checkpoints/',\n",
    "    logger=pl.loggers.TensorBoardLogger(f'{d}/logs/')\n",
    ")\n",
    "trainer.fit(m, train_loader, val_loader)\n",
    "results = metrics.all_metrics(truth, m, n=1000000)"
   ]
  },
  {
   "cell_type": "code",
   "execution_count": 15,
   "metadata": {},
   "outputs": [
    {
     "data": {
      "text/html": [
       "<div>\n",
       "<style scoped>\n",
       "    .dataframe tbody tr th:only-of-type {\n",
       "        vertical-align: middle;\n",
       "    }\n",
       "\n",
       "    .dataframe tbody tr th {\n",
       "        vertical-align: top;\n",
       "    }\n",
       "\n",
       "    .dataframe thead th {\n",
       "        text-align: right;\n",
       "    }\n",
       "</style>\n",
       "<table border=\"1\" class=\"dataframe\">\n",
       "  <thead>\n",
       "    <tr style=\"text-align: right;\">\n",
       "      <th></th>\n",
       "      <th>Z</th>\n",
       "      <th>X</th>\n",
       "      <th>Y</th>\n",
       "      <th>P(V)</th>\n",
       "      <th>P(V | do(X=1))</th>\n",
       "      <th>P(V | do(X=0))</th>\n",
       "    </tr>\n",
       "  </thead>\n",
       "  <tbody>\n",
       "    <tr>\n",
       "      <th>0</th>\n",
       "      <td>0</td>\n",
       "      <td>0</td>\n",
       "      <td>0</td>\n",
       "      <td>0.1969</td>\n",
       "      <td>NaN</td>\n",
       "      <td>0.4539</td>\n",
       "    </tr>\n",
       "    <tr>\n",
       "      <th>1</th>\n",
       "      <td>0</td>\n",
       "      <td>0</td>\n",
       "      <td>1</td>\n",
       "      <td>0.2015</td>\n",
       "      <td>NaN</td>\n",
       "      <td>0.4689</td>\n",
       "    </tr>\n",
       "    <tr>\n",
       "      <th>2</th>\n",
       "      <td>0</td>\n",
       "      <td>1</td>\n",
       "      <td>0</td>\n",
       "      <td>0.3104</td>\n",
       "      <td>0.5557</td>\n",
       "      <td>NaN</td>\n",
       "    </tr>\n",
       "    <tr>\n",
       "      <th>3</th>\n",
       "      <td>0</td>\n",
       "      <td>1</td>\n",
       "      <td>1</td>\n",
       "      <td>0.2099</td>\n",
       "      <td>0.3669</td>\n",
       "      <td>NaN</td>\n",
       "    </tr>\n",
       "    <tr>\n",
       "      <th>4</th>\n",
       "      <td>1</td>\n",
       "      <td>0</td>\n",
       "      <td>0</td>\n",
       "      <td>0.0511</td>\n",
       "      <td>NaN</td>\n",
       "      <td>0.0584</td>\n",
       "    </tr>\n",
       "    <tr>\n",
       "      <th>5</th>\n",
       "      <td>1</td>\n",
       "      <td>0</td>\n",
       "      <td>1</td>\n",
       "      <td>0.0190</td>\n",
       "      <td>NaN</td>\n",
       "      <td>0.0188</td>\n",
       "    </tr>\n",
       "    <tr>\n",
       "      <th>6</th>\n",
       "      <td>1</td>\n",
       "      <td>1</td>\n",
       "      <td>0</td>\n",
       "      <td>0.0086</td>\n",
       "      <td>0.0606</td>\n",
       "      <td>NaN</td>\n",
       "    </tr>\n",
       "    <tr>\n",
       "      <th>7</th>\n",
       "      <td>1</td>\n",
       "      <td>1</td>\n",
       "      <td>1</td>\n",
       "      <td>0.0026</td>\n",
       "      <td>0.0168</td>\n",
       "      <td>NaN</td>\n",
       "    </tr>\n",
       "  </tbody>\n",
       "</table>\n",
       "</div>"
      ],
      "text/plain": [
       "   Z  X  Y    P(V)  P(V | do(X=1))  P(V | do(X=0))\n",
       "0  0  0  0  0.1969             NaN          0.4539\n",
       "1  0  0  1  0.2015             NaN          0.4689\n",
       "2  0  1  0  0.3104          0.5557             NaN\n",
       "3  0  1  1  0.2099          0.3669             NaN\n",
       "4  1  0  0  0.0511             NaN          0.0584\n",
       "5  1  0  1  0.0190             NaN          0.0188\n",
       "6  1  1  0  0.0086          0.0606             NaN\n",
       "7  1  1  1  0.0026          0.0168             NaN"
      ]
     },
     "metadata": {},
     "output_type": "display_data"
    },
    {
     "data": {
      "text/html": [
       "<div>\n",
       "<style scoped>\n",
       "    .dataframe tbody tr th:only-of-type {\n",
       "        vertical-align: middle;\n",
       "    }\n",
       "\n",
       "    .dataframe tbody tr th {\n",
       "        vertical-align: top;\n",
       "    }\n",
       "\n",
       "    .dataframe thead th {\n",
       "        text-align: right;\n",
       "    }\n",
       "</style>\n",
       "<table border=\"1\" class=\"dataframe\">\n",
       "  <thead>\n",
       "    <tr style=\"text-align: right;\">\n",
       "      <th></th>\n",
       "      <th></th>\n",
       "      <th>Z</th>\n",
       "      <th>P(V)</th>\n",
       "      <th>P(V | do(X=1))</th>\n",
       "      <th>P(V | do(X=0))</th>\n",
       "    </tr>\n",
       "    <tr>\n",
       "      <th>X</th>\n",
       "      <th>Y</th>\n",
       "      <th></th>\n",
       "      <th></th>\n",
       "      <th></th>\n",
       "      <th></th>\n",
       "    </tr>\n",
       "  </thead>\n",
       "  <tbody>\n",
       "    <tr>\n",
       "      <th rowspan=\"2\" valign=\"top\">0</th>\n",
       "      <th>0</th>\n",
       "      <td>1</td>\n",
       "      <td>0.2515</td>\n",
       "      <td>0.0000</td>\n",
       "      <td>0.5074</td>\n",
       "    </tr>\n",
       "    <tr>\n",
       "      <th>1</th>\n",
       "      <td>1</td>\n",
       "      <td>0.2229</td>\n",
       "      <td>0.0000</td>\n",
       "      <td>0.4926</td>\n",
       "    </tr>\n",
       "    <tr>\n",
       "      <th rowspan=\"2\" valign=\"top\">1</th>\n",
       "      <th>0</th>\n",
       "      <td>1</td>\n",
       "      <td>0.3128</td>\n",
       "      <td>0.6088</td>\n",
       "      <td>0.0000</td>\n",
       "    </tr>\n",
       "    <tr>\n",
       "      <th>1</th>\n",
       "      <td>1</td>\n",
       "      <td>0.2128</td>\n",
       "      <td>0.3912</td>\n",
       "      <td>0.0000</td>\n",
       "    </tr>\n",
       "  </tbody>\n",
       "</table>\n",
       "</div>"
      ],
      "text/plain": [
       "     Z    P(V)  P(V | do(X=1))  P(V | do(X=0))\n",
       "X Y                                           \n",
       "0 0  1  0.2515          0.0000          0.5074\n",
       "  1  1  0.2229          0.0000          0.4926\n",
       "1 0  1  0.3128          0.6088          0.0000\n",
       "  1  1  0.2128          0.3912          0.0000"
      ]
     },
     "metadata": {},
     "output_type": "display_data"
    }
   ],
   "source": [
    "display(pd.merge(\n",
    "    pd.merge(\n",
    "        metrics.probability_table(ncm, n=n),\n",
    "        (metrics.probability_table(ncm, n=n, do={'X': T.ones(n, 1)})\n",
    "         .rename({'P(V)': 'P(V | do(X=1))'}, axis=1)), how='outer'),\n",
    "    (metrics.probability_table(ncm, n=n, do={'X': T.zeros(n, 1)})\n",
    "     .rename({'P(V)': 'P(V | do(X=0))'}, axis=1)), how='outer'))\n",
    "\n",
    "display(pd.merge(\n",
    "    pd.merge(\n",
    "        metrics.probability_table(ncm, n=n),\n",
    "        (metrics.probability_table(ncm, n=n, do={'X': T.ones(n, 1)})\n",
    "         .rename({'P(V)': 'P(V | do(X=1))'}, axis=1)), how='outer'),\n",
    "    (metrics.probability_table(ncm, n=n, do={'X': T.zeros(n, 1)})\n",
    "     .rename({'P(V)': 'P(V | do(X=0))'}, axis=1)), how='outer').groupby(['X', 'Y']).sum())"
   ]
  },
  {
   "cell_type": "code",
   "execution_count": 17,
   "metadata": {},
   "outputs": [
    {
     "name": "stdout",
     "output_type": "stream",
     "text": [
      "{'true_ate': -0.1163431704044342, 'ncm_ate': -0.10822698473930359, 'true_obs_effect': -0.0889156094823717, 'ncm_obs_effect': -0.08144369721412659, 'kl': 0.0008372459635139565, 'supremum_norm': 0.00967546554851531}\n"
     ]
    }
   ],
   "source": [
    "print(results)"
   ]
  },
  {
   "cell_type": "code",
   "execution_count": 10,
   "metadata": {},
   "outputs": [
    {
     "data": {
      "text/plain": [
       "<All keys matched successfully>"
      ]
     },
     "execution_count": 10,
     "metadata": {},
     "output_type": "execute_result"
    }
   ],
   "source": [
    "sd = T.load('out/mmd/backdoor-1000-0/best.th')\n",
    "g = 'backdoor'\n",
    "m = MMDModule(CTM(utils.RPA[g]), NCM(CausalGraph.read(f'../dat/cg/{g}.cg')))\n",
    "m.load_state_dict(sd)"
   ]
  },
  {
   "cell_type": "code",
   "execution_count": 11,
   "metadata": {},
   "outputs": [
    {
     "data": {
      "text/html": [
       "<div>\n",
       "<style scoped>\n",
       "    .dataframe tbody tr th:only-of-type {\n",
       "        vertical-align: middle;\n",
       "    }\n",
       "\n",
       "    .dataframe tbody tr th {\n",
       "        vertical-align: top;\n",
       "    }\n",
       "\n",
       "    .dataframe thead th {\n",
       "        text-align: right;\n",
       "    }\n",
       "</style>\n",
       "<table border=\"1\" class=\"dataframe\">\n",
       "  <thead>\n",
       "    <tr style=\"text-align: right;\">\n",
       "      <th></th>\n",
       "      <th>Z</th>\n",
       "      <th>X</th>\n",
       "      <th>Y</th>\n",
       "      <th>P(V)</th>\n",
       "    </tr>\n",
       "  </thead>\n",
       "  <tbody>\n",
       "    <tr>\n",
       "      <th>0</th>\n",
       "      <td>0.0</td>\n",
       "      <td>0.0</td>\n",
       "      <td>0.0</td>\n",
       "      <td>0.162780</td>\n",
       "    </tr>\n",
       "    <tr>\n",
       "      <th>1</th>\n",
       "      <td>0.0</td>\n",
       "      <td>0.0</td>\n",
       "      <td>1.0</td>\n",
       "      <td>0.621632</td>\n",
       "    </tr>\n",
       "    <tr>\n",
       "      <th>2</th>\n",
       "      <td>0.0</td>\n",
       "      <td>1.0</td>\n",
       "      <td>0.0</td>\n",
       "      <td>0.059489</td>\n",
       "    </tr>\n",
       "    <tr>\n",
       "      <th>3</th>\n",
       "      <td>0.0</td>\n",
       "      <td>1.0</td>\n",
       "      <td>1.0</td>\n",
       "      <td>0.156099</td>\n",
       "    </tr>\n",
       "  </tbody>\n",
       "</table>\n",
       "</div>"
      ],
      "text/plain": [
       "     Z    X    Y      P(V)\n",
       "0  0.0  0.0  0.0  0.162780\n",
       "1  0.0  0.0  1.0  0.621632\n",
       "2  0.0  1.0  0.0  0.059489\n",
       "3  0.0  1.0  1.0  0.156099"
      ]
     },
     "metadata": {},
     "output_type": "display_data"
    }
   ],
   "source": [
    "t = ncm.training\n",
    "m.eval()\n",
    "display(metrics.probability_table(m))\n",
    "m.train(t);"
   ]
  },
  {
   "cell_type": "code",
   "execution_count": 15,
   "metadata": {},
   "outputs": [
    {
     "data": {
      "text/html": [
       "<div>\n",
       "<style scoped>\n",
       "    .dataframe tbody tr th:only-of-type {\n",
       "        vertical-align: middle;\n",
       "    }\n",
       "\n",
       "    .dataframe tbody tr th {\n",
       "        vertical-align: top;\n",
       "    }\n",
       "\n",
       "    .dataframe thead th {\n",
       "        text-align: right;\n",
       "    }\n",
       "</style>\n",
       "<table border=\"1\" class=\"dataframe\">\n",
       "  <thead>\n",
       "    <tr style=\"text-align: right;\">\n",
       "      <th></th>\n",
       "      <th></th>\n",
       "      <th>P(V)</th>\n",
       "    </tr>\n",
       "    <tr>\n",
       "      <th>X</th>\n",
       "      <th>Y</th>\n",
       "      <th></th>\n",
       "    </tr>\n",
       "  </thead>\n",
       "  <tbody>\n",
       "    <tr>\n",
       "      <th rowspan=\"2\" valign=\"top\">0</th>\n",
       "      <th>0</th>\n",
       "      <td>0.203939</td>\n",
       "    </tr>\n",
       "    <tr>\n",
       "      <th>1</th>\n",
       "      <td>0.342791</td>\n",
       "    </tr>\n",
       "    <tr>\n",
       "      <th rowspan=\"2\" valign=\"top\">1</th>\n",
       "      <th>0</th>\n",
       "      <td>0.280350</td>\n",
       "    </tr>\n",
       "    <tr>\n",
       "      <th>1</th>\n",
       "      <td>0.172919</td>\n",
       "    </tr>\n",
       "  </tbody>\n",
       "</table>\n",
       "</div>"
      ],
      "text/plain": [
       "         P(V)\n",
       "X Y          \n",
       "0 0  0.203939\n",
       "  1  0.342791\n",
       "1 0  0.280350\n",
       "  1  0.172919"
      ]
     },
     "metadata": {},
     "output_type": "display_data"
    }
   ],
   "source": [
    "t = ncm.training\n",
    "m.eval()\n",
    "display(metrics.probability_table(m.ctm).groupby(['X', 'Y'])['P(V)'].sum().to_frame())\n",
    "m.train(t);"
   ]
  },
  {
   "cell_type": "code",
   "execution_count": 18,
   "metadata": {},
   "outputs": [],
   "source": [
    "m.train()\n",
    "x = m(100000)"
   ]
  },
  {
   "cell_type": "code",
   "execution_count": 20,
   "metadata": {},
   "outputs": [
    {
     "data": {
      "text/plain": [
       "tensor(0.1312, grad_fn=<MinBackward1>)"
      ]
     },
     "execution_count": 20,
     "metadata": {},
     "output_type": "execute_result"
    }
   ],
   "source": [
    "x['Z'].min()"
   ]
  },
  {
   "cell_type": "code",
   "execution_count": 21,
   "metadata": {},
   "outputs": [
    {
     "data": {
      "text/plain": [
       "tensor(0.2647, grad_fn=<MaxBackward1>)"
      ]
     },
     "execution_count": 21,
     "metadata": {},
     "output_type": "execute_result"
    }
   ],
   "source": [
    "x['Z'].max()"
   ]
  },
  {
   "cell_type": "code",
   "execution_count": null,
   "metadata": {},
   "outputs": [],
   "source": []
  }
 ],
 "metadata": {
  "kernelspec": {
   "display_name": "Python 3",
   "language": "python",
   "name": "python3"
  },
  "language_info": {
   "codemirror_mode": {
    "name": "ipython",
    "version": 3
   },
   "file_extension": ".py",
   "mimetype": "text/x-python",
   "name": "python",
   "nbconvert_exporter": "python",
   "pygments_lexer": "ipython3",
   "version": "3.7.6"
  }
 },
 "nbformat": 4,
 "nbformat_minor": 4
}
